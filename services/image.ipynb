{
 "cells": [
  {
   "cell_type": "code",
   "execution_count": 2,
   "metadata": {},
   "outputs": [],
   "source": [
    "import requests\n",
    "import time\n",
    "# from django.conf import settings\n",
    "\n",
    "import os\n",
    "import time\n",
    "import requests\n",
    "\n",
    "API_KEY = 'c2a9b3212fce020e0b04a429903cd512' # settings.KIE_API_KEY  # Set this in your environment\n",
    "\n",
    "if not API_KEY:\n",
    "    raise Exception(\"Set KIE_API_KEY env var first\")\n",
    "\n",
    "HEADERS = {\n",
    "    \"Content-Type\": \"application/json\",\n",
    "    \"Authorization\": f\"Bearer {API_KEY}\"\n",
    "}\n",
    "\n",
    "def create_task(prompt, aspect_ratio=\"1:1\"):\n",
    "    url = \"https://kieai.erweima.ai/api/v1/gpt4o-image/generate\"\n",
    "    resp = requests.post(url, json={\"prompt\": prompt, \"aspectRatio\": aspect_ratio}, headers=HEADERS)\n",
    "    resp.raise_for_status()\n",
    "    return resp.json()['data']['taskId']\n",
    "\n",
    "def check_status(task_id):\n",
    "    url = \"https://kieai.erweima.ai/api/v1/gpt4o-image/record-info\"\n",
    "    resp = requests.get(url, params={\"taskId\": task_id}, headers=HEADERS)\n",
    "    resp.raise_for_status()\n",
    "    return resp.json()\n",
    "\n",
    "def download(url, dest):\n",
    "    img_resp = requests.get(url)\n",
    "    img_resp.raise_for_status()\n",
    "    with open(dest, \"wb\") as f:\n",
    "        f.write(img_resp.content)\n",
    "\n"
   ]
  },
  {
   "cell_type": "code",
   "execution_count": null,
   "metadata": {},
   "outputs": [
    {
     "name": "stdout",
     "output_type": "stream",
     "text": [
      "{'code': 200, 'msg': 'success', 'data': {'taskId': 'c0dbafe196b42810ae2c9f98904fb477'}}\n",
      "Task started: {'code': 200, 'msg': 'success', 'data': {'taskId': 'c0dbafe196b42810ae2c9f98904fb477'}}\n"
     ]
    }
   ],
   "source": [
    "\n",
    "tid = create_task(\"A serene lake at sunrise\")\n",
    "print(\"Task started:\", tid)"
   ]
  },
  {
   "cell_type": "code",
   "execution_count": 9,
   "metadata": {},
   "outputs": [
    {
     "data": {
      "text/plain": [
       "'c0dbafe196b42810ae2c9f98904fb477'"
      ]
     },
     "execution_count": 9,
     "metadata": {},
     "output_type": "execute_result"
    }
   ],
   "source": [
    "tid=tid['data']['taskId']\n",
    "tid"
   ]
  },
  {
   "cell_type": "code",
   "execution_count": 3,
   "metadata": {},
   "outputs": [
    {
     "data": {
      "text/plain": [
       "{'code': 200,\n",
       " 'msg': 'success',\n",
       " 'data': {'taskId': '90639516cc6e861e03230a18d8a92afa',\n",
       "  'paramJson': '{\"fileUrlOrPromptNotEmpty\":true,\"nVariantsValid\":true,\"prompt\":\"A serene lake at sunrise\"}',\n",
       "  'completeTime': 1749800658000,\n",
       "  'response': {'resultUrls': ['https://tempfile.aiquickdraw.com/v/ec0ef3055cc34c62b0a2a53589ae77e2_0_1749800653.png']},\n",
       "  'successFlag': 1,\n",
       "  'status': 'SUCCESS',\n",
       "  'errorCode': None,\n",
       "  'errorMessage': None,\n",
       "  'createTime': 1749800618000,\n",
       "  'progress': '1.00'}}"
      ]
     },
     "execution_count": 3,
     "metadata": {},
     "output_type": "execute_result"
    }
   ],
   "source": [
    "check_status('90639516cc6e861e03230a18d8a92afa')"
   ]
  },
  {
   "cell_type": "code",
   "execution_count": 12,
   "metadata": {},
   "outputs": [
    {
     "data": {
      "text/plain": [
       "{'code': 200,\n",
       " 'msg': 'success',\n",
       " 'data': {'taskId': 'c0dbafe196b42810ae2c9f98904fb477',\n",
       "  'paramJson': '{\"fileUrlOrPromptNotEmpty\":true,\"nVariantsValid\":true,\"prompt\":\"A serene lake at sunrise\"}',\n",
       "  'completeTime': 1749800979000,\n",
       "  'response': {'resultUrls': ['https://tempfile.aiquickdraw.com/v/30650ce9467048b7ae8943cbc96bcbdb_0_1749800977.png']},\n",
       "  'successFlag': 1,\n",
       "  'status': 'SUCCESS',\n",
       "  'errorCode': None,\n",
       "  'errorMessage': None,\n",
       "  'createTime': 1749800931000,\n",
       "  'progress': '1.00'}}"
      ]
     },
     "execution_count": 12,
     "metadata": {},
     "output_type": "execute_result"
    }
   ],
   "source": [
    "check_status(tid)"
   ]
  },
  {
   "cell_type": "code",
   "execution_count": null,
   "metadata": {},
   "outputs": [
    {
     "data": {
      "text/plain": [
       "'https://tempfile.aiquickdraw.com/v/30650ce9467048b7ae8943cbc96bcbdb_0_1749800977.png'"
      ]
     },
     "execution_count": 20,
     "metadata": {},
     "output_type": "execute_result"
    }
   ],
   "source": [
    "info['data']['response']['resultUrls'][0]"
   ]
  },
  {
   "cell_type": "code",
   "execution_count": null,
   "metadata": {},
   "outputs": [
    {
     "name": "stdout",
     "output_type": "stream",
     "text": [
      "Status: success\n",
      "Image saved to lake.png\n"
     ]
    }
   ],
   "source": [
    "\n",
    "# info = check_status(tid)\n",
    "status = info.get(\"code\")\n",
    "print(\"Status:\", status)\n",
    "if status.lower() == \"success\":\n",
    "    url = info['data']['response']['resultUrls'][0]\n",
    "    download(url, \"lake.png\")\n",
    "    print(\"Image saved to lake.png\")\n",
    "    # break\n",
    "elif status.endswith(\"FAILED\"):\n",
    "    raise Exception(\"Generation failed:\", status)\n",
    "    # time.sleep(1)\n",
    "else:\n",
    "    raise TimeoutError(\"Image generation timed out\")\n"
   ]
  },
  {
   "cell_type": "code",
   "execution_count": 11,
   "metadata": {},
   "outputs": [],
   "source": [
    "status"
   ]
  }
 ],
 "metadata": {
  "kernelspec": {
   "display_name": "Python 3",
   "language": "python",
   "name": "python3"
  },
  "language_info": {
   "codemirror_mode": {
    "name": "ipython",
    "version": 3
   },
   "file_extension": ".py",
   "mimetype": "text/x-python",
   "name": "python",
   "nbconvert_exporter": "python",
   "pygments_lexer": "ipython3",
   "version": "3.11.4"
  }
 },
 "nbformat": 4,
 "nbformat_minor": 2
}
